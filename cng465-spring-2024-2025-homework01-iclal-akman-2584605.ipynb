{
 "cells": [
  {
   "cell_type": "markdown",
   "id": "e588eeea",
   "metadata": {
    "assignment": {
     "course_code": "CNG465",
     "id": 1,
     "institution": "METU",
     "name": "homework01",
     "password": "6d577fd11f626664ba99c97eb364ed8e778e8ad3827dc7532441ec3a422aeb29",
     "school_year": "2024-2025",
     "semester": "Spring",
     "type": "homework"
    },
    "deletable": false,
    "editable": false,
    "nbgrader": {
     "cell_type": "markdown",
     "checksum": "e9eb61d3ee9d5138483064c4ca7c7690",
     "grade": false,
     "grade_id": "cell-f7xrf1ma5o94x9hk",
     "locked": true,
     "schema_version": 3,
     "solution": false,
     "task": false
    }
   },
   "source": [
    "# <div style=\"margin: 1px; background-color: #555; color: white; padding:8px; padding-left: 10px; padding-right: 10px; border-radius: 5px;\">CNG 465 • Spring 2024-2025 • <span style=\"margin-left: 1px; background-color: #cf441e; border-radius: 3px; padding: 2px; padding-left: 5px; padding-right: 5px; font-size: 80%;\">HOMEWORK 01</span></div>"
   ]
  },
  {
   "cell_type": "markdown",
   "id": "7153071e",
   "metadata": {
    "deletable": false,
    "editable": false,
    "nbgrader": {
     "cell_type": "markdown",
     "checksum": "ea8b79ddd7acf52d0ed55e01169e0919",
     "grade": false,
     "grade_id": "cell-7444iddpp3u1619p",
     "locked": true,
     "schema_version": 3,
     "solution": false,
     "task": false
    }
   },
   "source": [
    "### <span style=\"display: block; margin-left: 0px; background-color: #388; color: white; padding: 5px; padding-left: 10px; padding-right: 10px; border-radius: 0px; text-align: center; border-radius: 3px;\">3 questions / 100 points total</span><span id=\"QTOP\"></span> \n",
    "\n",
    "Jump to \n",
    "<a href=\"#Q1\" style=\"background-color: #555; color: white; padding: 10px; border-radius: 2px; text-align: center; border-radius: 3px; margin-right: 5px;\">Q1</a>\n",
    "<a href=\"#Q2\" style=\"background-color: #555; color: white; padding: 10px; border-radius: 2px; text-align: center; border-radius: 3px; margin-right: 5px;\">Q2</a>\n",
    "<a href=\"#Q3\" style=\"background-color: #555; color: white; padding: 10px; border-radius: 2px; text-align: center; border-radius: 3px; margin-right: 5px;\">Q3</a>"
   ]
  },
  {
   "cell_type": "markdown",
   "id": "c017a3c2",
   "metadata": {
    "deletable": false,
    "editable": false,
    "nbgrader": {
     "cell_type": "markdown",
     "checksum": "5441d8d0c396ba837b3962ff57b51409",
     "grade": false,
     "grade_id": "cell-f7jtzf3xka9nh4ji",
     "locked": true,
     "schema_version": 3,
     "solution": false,
     "task": false
    }
   },
   "source": [
    "<h3><span style=\"background-color: #444; color: white; padding: 5px; padding-left: 10px; padding-right: 10px; margin-top: 10px; margin-bottom: 10px; border-radius: 7px;\">INSTRUCTIONS</span></h3>\n",
    "\n",
    "<div style=\"color: #515; font-size: 12pt; line-height: 1.5; margin-top: 20px;\">\n",
    "\n",
    "- <b>Note that downloading this notebook, reading and comprehending all instructions contained therein, reading and comprehending the questions on this assignment, filling in/saving your answers in the appropriate cells in this file, and finally uploading this file with your answers onto the appropriate website before the deadline are all parts of this assignment!</b>\n",
    "    \n",
    "    \n",
    "- No time extension will be provided unless a system-related problem occurs!    \n",
    "    \n",
    "    \n",
    "- All questions in this assignment are subject to being automatically graded using [NBGRADER](https://nbgrader.readthedocs.io/).\n",
    "    \n",
    "    \n",
    "- <div style=\"background-color: #800; color: white; padding: 5px; padding-left: 10px; padding-right: 10px; margin-top: 10px; margin-bottom: 10px; border-radius: 7px;\">Yet your answers may selectively be checked for <b>plagiarism</b> using specialized software. If there is clear evidence of plagiarism anywhere in this assignment, you will automatically receive no grade for this assignment! Even if you plagiarize on a single question or one part of a question, you will still receive a <b>zero<b> for the entire assignment, and further disciplinary action may also be taken. So, <b>please do not plagiarize!<b></div>\n",
    "    \n",
    "- __<span style=\"color: #b00; font-size: 12pt; line-height: 1.5;\">DO NOT COPY AND PASTE CELLS</span>__\n",
    "    \n",
    "- __<span style=\"color: #b00; font-size: 12pt; line-height: 1.5;\">DO NOT REMOVE CELLS</span>__\n",
    "    \n",
    "- __<span style=\"color: #b00; font-size: 12pt; line-height: 1.5;\">DO NOT MOVE THE LOCATION OF ANY CELLS</span>__    \n",
    "\n",
    "- __<span style=\"color: #b00; font-size: 12pt; line-height: 1.5;\">DO NOT ADD NEW CELLS</span>__    \n",
    "\n",
    "- __<span style=\"color: #b00; font-size: 12pt; line-height: 1.5;\">DO NOT CHANGE THE TYPE (Markdown/Code/Raw) OF CELLS</span>__    \n",
    "    \n",
    "- __<span style=\"color: #080; font-size: 12pt; line-height: 1.5;\">ONLY WRITE CODE IN DESIGNATED CELLS AND RUN TESTS</span>__    \n",
    "\n",
    "- Fill in the code cells indicated for you clearly. That is, do __not__ write your code anywhere else. If you do so, you may lose the points for that question.\n",
    "    \n",
    "- Do not wait until the very last moment to upload your work!\n",
    "    \n",
    "- Do not send a file with a different file type&mdash;Only Jupyter notebooks will be accepted\n",
    "    \n",
    "- Do not send your answer notebook file by email or via any other messaging media&mdash;such requests will be ignored without notice\n",
    "    \n",
    "- __All _Rules of Academic Conduct_ apply__. Any sort of cheating will result in an __FF__ grade for the course. Your case will also be submitted to the Faculty Disciplinary Committee for further evaluation and disciplinary action. You can refer to books and web pages for help, but you are __not__ allowed to consult anyone online. Any sort of collaboraton with anyone anywhere is considered cheating.\n",
    "    \n",
    "- Enter your official name and your METU NCC student ID in the code cell further below, *unless your name and student ID have already been entered for you*. For example, the format of your information should be as follows:\n",
    "\n",
    "        student_name = \"John Smith\"\n",
    "        student_id   = \"2099234\"\n",
    "        \n",
    "    - Make sure you enter your official name as a `str` as shown above\n",
    "    - Make sure that your student ID has been entered correctly as `str`.\n",
    "\n",
    "<h3><span style=\"background-color: #444; color: white; padding: 5px; padding-left: 10px; padding-right: 10px; margin-top: 10px; margin-bottom: 10px; border-radius: 7px;\">SUBMISSION</span></h3>\n",
    "\n",
    "- Ideally, do **not** modify the name of your notebook file\n",
    "\n",
    "- Before uploading your work, you must **_validate_** your notebook file using [NBGRADER](https://nbgrader.readthedocs.io/en/stable/)\n",
    "\n",
    "- Follow the instructions [here](https://nbgrader.readthedocs.io/en/stable/) to install and use [NBGRADER](https://nbgrader.readthedocs.io/en/stable/) for validation\n",
    "\n",
    "- If your notebook fails to *validate*, you must fix your file before submitting your file!\n",
    "\n",
    "- Notebooks that do not validate cannot be graded! Therefore, if you upload your file without *validating* it, you run the risk of getting **zero** for your submission! We will **not** take the time to fix your file for you!\n",
    "    \n",
    "- Upload your notebook file with your answers at the appropriate ODTUClass link **after validating it using NBGRADER** (*See above*)\n",
    "\n",
    "- You may upload multiple times, but always ensure that you have removed any previous versions!\n",
    "\n",
    "- No late submissions will be accepted!\n",
    "\n",
    "### Best of luck!\n",
    "\n",
    "</div>"
   ]
  },
  {
   "cell_type": "markdown",
   "id": "907dea18",
   "metadata": {
    "deletable": false,
    "editable": false,
    "nbgrader": {
     "cell_type": "markdown",
     "checksum": "707b7cbb69397657df163cee55d33e9d",
     "grade": false,
     "grade_id": "cell-2z3g1ui9ci4779w4",
     "locked": true,
     "schema_version": 3,
     "solution": false,
     "task": false
    }
   },
   "source": [
    "<div style=\"border-bottom: 2px solid;\"></div>"
   ]
  },
  {
   "cell_type": "markdown",
   "id": "24f4eca9",
   "metadata": {
    "deletable": false,
    "editable": false,
    "nbgrader": {
     "cell_type": "markdown",
     "checksum": "34bcb46c4f4e89b81359787dc1a4f1e7",
     "grade": false,
     "grade_id": "cell-u29f81163f7pws97",
     "locked": true,
     "schema_version": 3,
     "solution": false,
     "task": false
    }
   },
   "source": [
    "### <span style=\"margin-left: 0px; background-color: #116; color: white; padding: 5px; padding-left: 10px; padding-right: 10px; border-radius: 5px; font-size: 12pt;\">Check to make sure that your name and student ID are correct in the code cell below</span>"
   ]
  },
  {
   "cell_type": "code",
   "execution_count": 4,
   "id": "a13dc1b5",
   "metadata": {},
   "outputs": [],
   "source": [
    "student_name = \"Iclal Akman\"\n",
    "student_id   = \"2584605\""
   ]
  },
  {
   "cell_type": "markdown",
   "id": "d731ebfa",
   "metadata": {
    "deletable": false,
    "editable": false,
    "nbgrader": {
     "cell_type": "markdown",
     "checksum": "21b216692f880036417cbee2347d612b",
     "grade": false,
     "grade_id": "cell-100oav9boa6896l1",
     "locked": true,
     "schema_version": 3,
     "solution": false,
     "task": false
    }
   },
   "source": [
    "<div style=\"border-bottom: 2px solid;\"></div>"
   ]
  },
  {
   "cell_type": "markdown",
   "id": "c250cf8e",
   "metadata": {
    "deletable": false,
    "editable": false,
    "nbgrader": {
     "cell_type": "markdown",
     "checksum": "2b5ad0b007fe3ec515421d0af295ace8",
     "grade": false,
     "grade_id": "cell-1o772v7y813u540v",
     "locked": true,
     "schema_version": 3,
     "solution": false,
     "task": false
    },
    "slideshow": {
     "slide_type": ""
    },
    "tags": []
   },
   "source": [
    "### Computation of *complementary*/*reverse complementary*/*reverse* DNA sequences\n",
    "\n",
    "From https://study.com/skill/learn/writing-complementary-dna-sequences-explanation.html\n",
    "\n",
    "**Example Problem 1 - Writing Complementary DNA Sequences:**\n",
    "\n",
    "What is the complementary sequence for the DNA strand `ATAACGTGGATGCTA`?\n",
    "\n",
    "**Step 1:** Starting on the left, read the first letter in the DNA sequence and write down the complementary base.\n",
    "\n",
    "The first base in this sequence is \"A\", which pairs with \"T\", so the first letter in our complementary sequence will be \"T\".\n",
    "\n",
    "**Step 2:** Continue from left to right until the complementary sequence is complete.\n",
    "\n",
    "Working through the sequence, the complementary strand will be: `TATTGCACCTACGAT`\n",
    "\n",
    "**Example Problem 2 - Writing Complementary DNA Sequences:**\n",
    "\n",
    "What is the complementary sequence for the DNA strand `GTCATGCTAAGTCTGA`?\n",
    "\n",
    "**Step 1:** Starting on the left, read the first letter in the DNA sequence and write down the complementary base.\n",
    "\n",
    "The first base in this sequence is \"G\", which pairs with \"C\", so the first letter in our complementary sequence will be \"C\".\n",
    "\n",
    "**Step 2:** Continue from left to right until the complementary sequence is complete.\n",
    "\n",
    "Working through the sequence, the complementary strand will be: `CAGTACGATTCAGACT`\n",
    "\n",
    "---\n",
    "\n",
    "To test your work using the following online application:\n",
    "\n",
    "> https://www.bioinformatics.org/sms/rev_comp.html\n",
    "\n",
    "For *complements*, make sure that the bottom right drop-down menu shows \"complement.\" If not, you must select it. For *reverse complement*, the menu option must be \"reverse complement.\" Finally, for *reverse*, the menu option must be \"reverse.\""
   ]
  },
  {
   "cell_type": "markdown",
   "id": "e7256e0b",
   "metadata": {
    "deletable": false,
    "editable": false,
    "nbgrader": {
     "cell_type": "markdown",
     "checksum": "4133e6480879401c91b472579940081f",
     "grade": false,
     "grade_id": "cell-4vqdq4r9924038x4",
     "locked": true,
     "schema_version": 3,
     "solution": false,
     "task": false
    }
   },
   "source": [
    "### <span id=\"Q1\" style=\"background-color: #555; color: white; padding: 5px; padding-left: 10px; padding-right: 10px; border-radius: 5px;\">Question 1</span><span style=\"margin-left: 10px; background-color: #383; color: white; padding: 5px; padding-left: 10px; padding-right: 10px; border-radius: 5px;\">30 points</span><a href=\"#QTOP\" style=\"background-color: #aaa; color: white; padding: 5px; padding-bottom: 5px; border-radius: 2px; text-align: center; border-radius: 3px; margin-left: 10px; text-decoration: none;\">⇡</a>"
   ]
  },
  {
   "cell_type": "markdown",
   "id": "70af6758",
   "metadata": {
    "deletable": false,
    "editable": false,
    "nbgrader": {
     "cell_type": "markdown",
     "checksum": "2f1c05e3f17880ed52ca97a1dc0484cf",
     "grade": false,
     "grade_id": "cell-7x2qu2d0v76moemr",
     "locked": true,
     "schema_version": 3,
     "solution": false,
     "task": false
    }
   },
   "source": [
    "Write a Python function called `dna_complement( sequence )` that takes a DNA sequence as input and returns the left-to-right complementary sequence for that sequence as a string. \n",
    "\n",
    "- The input sequence may be in uppercase, lowercase, or a mixture, but you may assume the input string will always contain bases and nothing else, except for spaces around the the string.\n",
    "\n",
    "- An empty function stub is provided for you in the answer code cell below."
   ]
  },
  {
   "cell_type": "markdown",
   "id": "185aa0a0",
   "metadata": {
    "deletable": false,
    "editable": false,
    "nbgrader": {
     "cell_type": "markdown",
     "checksum": "e4bf39d7096674ddf604a66e95bad037",
     "grade": false,
     "grade_id": "cell-1t832e371rk46bqy",
     "locked": true,
     "schema_version": 3,
     "solution": false,
     "task": false
    }
   },
   "source": [
    "<span style=\"margin-left: 0px; background-color: #808; color: white; padding: 5px; margin: 10px; border-radius: 5px; font-size: 12pt;\"><b>IMPLEMENT YOUR ANSWER IN THE FOLLOWING CODE CELL</b></span>"
   ]
  },
  {
   "cell_type": "code",
   "execution_count": 1,
   "id": "65af3d8b",
   "metadata": {
    "deletable": false,
    "nbgrader": {
     "cell_type": "code",
     "checksum": "9d53c9c8341290e0026fc443400c1938",
     "grade": false,
     "grade_id": "cell-r8217t8n04842t7i",
     "locked": false,
     "schema_version": 3,
     "solution": true,
     "task": false
    }
   },
   "outputs": [],
   "source": [
    "def dna_complement( sequence ):\n",
    "    result = \"\"\n",
    "    \n",
    "    for char in sequence:\n",
    "        if char == \"A\" or char == \"a\":\n",
    "            result += \"T\"\n",
    "        elif char == \"T\" or char == \"t\":\n",
    "            result += \"A\"\n",
    "        elif char == \"G\" or char == \"g\":\n",
    "            result += \"C\"\n",
    "        elif char == \"C\" or char == \"c\":\n",
    "            result += \"G\"\n",
    "\n",
    "    return result    \n",
    "    \n",
    "        "
   ]
  },
  {
   "cell_type": "markdown",
   "id": "4b499d12",
   "metadata": {
    "deletable": false,
    "editable": false,
    "nbgrader": {
     "cell_type": "markdown",
     "checksum": "48a1052832d6faf79612f5b411380a9e",
     "grade": false,
     "grade_id": "cell-qg06m77zgb1w0j12",
     "locked": true,
     "schema_version": 3,
     "solution": false,
     "task": false
    }
   },
   "source": [
    "### <span id=\"Q1p3\" style=\"background-color: #515; color: white; padding: 5px; padding-left: 10px; padding-right: 10px; border-radius: 5px;\">TEST 1/2 (15 points)</span><a href=\"#QTOP\" style=\"background-color: #aaa; color: white; padding: 5px; padding-bottom: 5px; border-radius: 2px; text-align: center; border-radius: 3px; margin-left: 10px; text-decoration: none;\">⇡</a>"
   ]
  },
  {
   "cell_type": "code",
   "execution_count": 2,
   "id": "81978132",
   "metadata": {
    "deletable": false,
    "editable": false,
    "nbgrader": {
     "cell_type": "code",
     "checksum": "27f265d8e2342ef4ec0da51422b10434",
     "grade": true,
     "grade_id": "cell-otzs399l1022q3bs",
     "locked": true,
     "points": 15,
     "schema_version": 3,
     "solution": false,
     "task": false
    }
   },
   "outputs": [
    {
     "name": "stdout",
     "output_type": "stream",
     "text": [
      "+++ CORRECT!\n"
     ]
    }
   ],
   "source": [
    "sequence = 'ATAACGTGGATGCTA'\n",
    "\n",
    "student_answer = dna_complement( sequence )\n",
    "correct_answer = 'TATTGCACCTACGAT'\n",
    "\n",
    "assert student_answer == correct_answer\n",
    "print( \"+++ CORRECT!\" )\n"
   ]
  },
  {
   "cell_type": "markdown",
   "id": "d5c4541d",
   "metadata": {
    "deletable": false,
    "editable": false,
    "nbgrader": {
     "cell_type": "markdown",
     "checksum": "e9b9eb78c49fea3e893f24a722876084",
     "grade": false,
     "grade_id": "cell-3t396gx0ytljc6ei",
     "locked": true,
     "schema_version": 3,
     "solution": false,
     "task": false
    }
   },
   "source": [
    "### <span id=\"Q1p3\" style=\"background-color: #515; color: white; padding: 5px; padding-left: 10px; padding-right: 10px; border-radius: 5px;\">TEST 2/2 (15 points)</span><a href=\"#QTOP\" style=\"background-color: #aaa; color: white; padding: 5px; padding-bottom: 5px; border-radius: 2px; text-align: center; border-radius: 3px; margin-left: 10px; text-decoration: none;\">⇡</a>"
   ]
  },
  {
   "cell_type": "code",
   "execution_count": 3,
   "id": "de814f2e",
   "metadata": {
    "deletable": false,
    "editable": false,
    "nbgrader": {
     "cell_type": "code",
     "checksum": "b1f86f74cf24b9c4eb31eb0a41504a89",
     "grade": true,
     "grade_id": "cell-tcatd82pn0las9o0",
     "locked": true,
     "points": 15,
     "schema_version": 3,
     "solution": false,
     "task": false
    }
   },
   "outputs": [
    {
     "name": "stdout",
     "output_type": "stream",
     "text": [
      "+++ CORRECT!\n"
     ]
    }
   ],
   "source": [
    "sequence = 'GTCATGCTAAGTCTGA'\n",
    "\n",
    "student_answer = dna_complement( sequence )\n",
    "correct_answer = 'CAGTACGATTCAGACT'\n",
    "\n",
    "assert student_answer == correct_answer\n",
    "print( \"+++ CORRECT!\" )\n",
    "\n"
   ]
  },
  {
   "cell_type": "markdown",
   "id": "f9dd1c0c",
   "metadata": {
    "deletable": false,
    "editable": false,
    "nbgrader": {
     "cell_type": "markdown",
     "checksum": "1bfb4f948367215f2f4afb51b8e1df18",
     "grade": false,
     "grade_id": "cell-t01j5o64a03e9xp7",
     "locked": true,
     "schema_version": 3,
     "solution": false,
     "task": false
    }
   },
   "source": [
    "### <span id=\"Q2\" style=\"background-color: #555; color: white; padding: 5px; padding-left: 10px; padding-right: 10px; border-radius: 5px;\">Question 2</span><span style=\"margin-left: 10px; background-color: #383; color: white; padding: 5px; padding-left: 10px; padding-right: 10px; border-radius: 5px;\">30 points</span><a href=\"#QTOP\" style=\"background-color: #aaa; color: white; padding: 5px; padding-bottom: 5px; border-radius: 2px; text-align: center; border-radius: 3px; margin-left: 10px; text-decoration: none;\">⇡</a>"
   ]
  },
  {
   "cell_type": "markdown",
   "id": "98f6a757",
   "metadata": {
    "deletable": false,
    "editable": false,
    "nbgrader": {
     "cell_type": "markdown",
     "checksum": "0ce44a07fce67cadf7b63dddd733f86c",
     "grade": false,
     "grade_id": "cell-uj2hi9x56405a95t",
     "locked": true,
     "schema_version": 3,
     "solution": false,
     "task": false
    }
   },
   "source": [
    "Write a Python function called `dna_reverse_complement( sequence )` that takes a DNA sequence as input and returns the reverse complementary sequence for that sequence as a string read from right-to-left. This is the method described in the *UBI* textbook where the \"complementary\" sequence of `AAG` is given as `CTT`. \n",
    "\n",
    "- The input sequence may be in uppercase, lowercase, or a mixture, but you may assume the input string will always contain bases and nothing else, except for spaces around the the string.\n",
    "\n",
    "- An empty function stub is provided for you in the answer code cell below."
   ]
  },
  {
   "cell_type": "markdown",
   "id": "edcc4d24",
   "metadata": {
    "deletable": false,
    "editable": false,
    "nbgrader": {
     "cell_type": "markdown",
     "checksum": "04e0223c8857fff3e2fbc13ba92e028b",
     "grade": false,
     "grade_id": "cell-557jt1906wgyx1j6",
     "locked": true,
     "schema_version": 3,
     "solution": false,
     "task": false
    }
   },
   "source": [
    "<span style=\"margin-left: 0px; background-color: #808; color: white; padding: 5px; margin: 10px; border-radius: 5px; font-size: 12pt;\"><b>IMPLEMENT YOUR ANSWER IN THE FOLLOWING CODE CELL</b></span>"
   ]
  },
  {
   "cell_type": "code",
   "execution_count": 4,
   "id": "225c8805",
   "metadata": {
    "deletable": false,
    "nbgrader": {
     "cell_type": "code",
     "checksum": "532aae2d392b590ef4b3793a84cdfa19",
     "grade": false,
     "grade_id": "cell-2m48r00p0j21af07",
     "locked": false,
     "schema_version": 3,
     "solution": true,
     "task": false
    }
   },
   "outputs": [],
   "source": [
    "def dna_reverse_complement( sequence ):\n",
    "    result = dna_complement(sequence)\n",
    "    return result[::-1]\n",
    "        \n",
    "    "
   ]
  },
  {
   "cell_type": "markdown",
   "id": "90b8b335",
   "metadata": {
    "deletable": false,
    "editable": false,
    "nbgrader": {
     "cell_type": "markdown",
     "checksum": "04feb7ccfdac8de09176a1d65964cb85",
     "grade": false,
     "grade_id": "cell-5p401o686f31b18i",
     "locked": true,
     "schema_version": 3,
     "solution": false,
     "task": false
    }
   },
   "source": [
    "### <span id=\"Q1p3\" style=\"background-color: #515; color: white; padding: 5px; padding-left: 10px; padding-right: 10px; border-radius: 5px;\">TEST 1/2 (15 points)</span><a href=\"#QTOP\" style=\"background-color: #aaa; color: white; padding: 5px; padding-bottom: 5px; border-radius: 2px; text-align: center; border-radius: 3px; margin-left: 10px; text-decoration: none;\">⇡</a>"
   ]
  },
  {
   "cell_type": "code",
   "execution_count": 5,
   "id": "e71341e2",
   "metadata": {
    "deletable": false,
    "editable": false,
    "nbgrader": {
     "cell_type": "code",
     "checksum": "9f3c57a7514f2959ac68104a53cfeb68",
     "grade": true,
     "grade_id": "cell-8jh1o47uoq1wyp5m",
     "locked": true,
     "points": 15,
     "schema_version": 3,
     "solution": false,
     "task": false
    }
   },
   "outputs": [
    {
     "name": "stdout",
     "output_type": "stream",
     "text": [
      "+++ CORRECT!\n"
     ]
    }
   ],
   "source": [
    "sequence = 'ATAACGTGGATGCTA'\n",
    "\n",
    "student_answer = dna_reverse_complement( sequence )\n",
    "correct_answer = 'TAGCATCCACGTTAT'\n",
    "\n",
    "assert student_answer == correct_answer\n",
    "print( \"+++ CORRECT!\" )\n"
   ]
  },
  {
   "cell_type": "markdown",
   "id": "27f705c4",
   "metadata": {
    "deletable": false,
    "editable": false,
    "nbgrader": {
     "cell_type": "markdown",
     "checksum": "eb684743fd4ca3b56cda702e84b5e4c5",
     "grade": false,
     "grade_id": "cell-7r8phn42510s69z0",
     "locked": true,
     "schema_version": 3,
     "solution": false,
     "task": false
    }
   },
   "source": [
    "### <span id=\"Q1p3\" style=\"background-color: #515; color: white; padding: 5px; padding-left: 10px; padding-right: 10px; border-radius: 5px;\">TEST 2/2 (15 points)</span><a href=\"#QTOP\" style=\"background-color: #aaa; color: white; padding: 5px; padding-bottom: 5px; border-radius: 2px; text-align: center; border-radius: 3px; margin-left: 10px; text-decoration: none;\">⇡</a>"
   ]
  },
  {
   "cell_type": "code",
   "execution_count": 7,
   "id": "8529df95",
   "metadata": {
    "deletable": false,
    "editable": false,
    "nbgrader": {
     "cell_type": "code",
     "checksum": "69b0dfc84ec53f8c299e1a04f07903cb",
     "grade": true,
     "grade_id": "cell-970336e2d9f18f99",
     "locked": true,
     "points": 15,
     "schema_version": 3,
     "solution": false,
     "task": false
    }
   },
   "outputs": [
    {
     "name": "stdout",
     "output_type": "stream",
     "text": [
      "+++ CORRECT!\n"
     ]
    }
   ],
   "source": [
    "sequence = 'GTCATGCTAAGTCTGA'\n",
    "\n",
    "student_answer = dna_reverse_complement( sequence )\n",
    "correct_answer = 'TCAGACTTAGCATGAC'\n",
    "\n",
    "assert student_answer == correct_answer\n",
    "print( \"+++ CORRECT!\" )\n",
    "\n"
   ]
  },
  {
   "cell_type": "markdown",
   "id": "27fe6967",
   "metadata": {
    "deletable": false,
    "editable": false,
    "nbgrader": {
     "cell_type": "markdown",
     "checksum": "da11b2097acde50cde8aa3db24387d22",
     "grade": false,
     "grade_id": "cell-7fy89jz0r30n2592",
     "locked": true,
     "schema_version": 3,
     "solution": false,
     "task": false
    }
   },
   "source": [
    "### <span id=\"Q3\" style=\"background-color: #555; color: white; padding: 5px; padding-left: 10px; padding-right: 10px; border-radius: 5px;\">Question 3</span><span style=\"margin-left: 10px; background-color: #383; color: white; padding: 5px; padding-left: 10px; padding-right: 10px; border-radius: 5px;\">40 points</span><a href=\"#QTOP\" style=\"background-color: #aaa; color: white; padding: 5px; padding-bottom: 5px; border-radius: 2px; text-align: center; border-radius: 3px; margin-left: 10px; text-decoration: none;\">⇡</a>"
   ]
  },
  {
   "cell_type": "markdown",
   "id": "a7ecc117",
   "metadata": {
    "deletable": false,
    "editable": false,
    "nbgrader": {
     "cell_type": "markdown",
     "checksum": "85de99fd7cb516fec5634c5082c91c2f",
     "grade": false,
     "grade_id": "cell-e7h156y4dsqd60o9",
     "locked": true,
     "schema_version": 3,
     "solution": false,
     "task": false
    }
   },
   "source": [
    "Write a Python function called `dna_reverse( sequence )` that takes a DNA sequence as input and returns the reverse of that sequence as a string. No base name translation is done in this case!\n",
    "\n",
    "- The input sequence may be in uppercase, lowercase, or a mixture, but you may assume the input string will always contain bases and nothing else, except for spaces around the the string.\n",
    "\n",
    "- An empty function stub is provided for you in the answer code cell below."
   ]
  },
  {
   "cell_type": "markdown",
   "id": "7a2fe1bd",
   "metadata": {
    "deletable": false,
    "editable": false,
    "nbgrader": {
     "cell_type": "markdown",
     "checksum": "d3bd43154b851c456268505b7dcf49bb",
     "grade": false,
     "grade_id": "cell-2gi86448188wka36",
     "locked": true,
     "schema_version": 3,
     "solution": false,
     "task": false
    }
   },
   "source": [
    "<span style=\"margin-left: 0px; background-color: #808; color: white; padding: 5px; margin: 10px; border-radius: 5px; font-size: 12pt;\"><b>IMPLEMENT YOUR ANSWER IN THE FOLLOWING CODE CELL</b></span>"
   ]
  },
  {
   "cell_type": "code",
   "execution_count": 6,
   "id": "36e6799e",
   "metadata": {
    "deletable": false,
    "nbgrader": {
     "cell_type": "code",
     "checksum": "554a471310613826e4e156a0fc5d1b7f",
     "grade": false,
     "grade_id": "cell-6khz054xcj9yz8s3",
     "locked": false,
     "schema_version": 3,
     "solution": true,
     "task": false
    }
   },
   "outputs": [],
   "source": [
    "def dna_reverse( sequence ):\n",
    "    return sequence[::-1]\n",
    "     "
   ]
  },
  {
   "cell_type": "markdown",
   "id": "16b10af4",
   "metadata": {
    "deletable": false,
    "editable": false,
    "nbgrader": {
     "cell_type": "markdown",
     "checksum": "3937362e7fc6cc18609c79d531afd5a4",
     "grade": false,
     "grade_id": "cell-37886o154edfp442",
     "locked": true,
     "schema_version": 3,
     "solution": false,
     "task": false
    }
   },
   "source": [
    "### <span id=\"Q1p3\" style=\"background-color: #515; color: white; padding: 5px; padding-left: 10px; padding-right: 10px; border-radius: 5px;\">TEST 1/2 (20 points)</span><a href=\"#QTOP\" style=\"background-color: #aaa; color: white; padding: 5px; padding-bottom: 5px; border-radius: 2px; text-align: center; border-radius: 3px; margin-left: 10px; text-decoration: none;\">⇡</a>"
   ]
  },
  {
   "cell_type": "code",
   "execution_count": 7,
   "id": "716dcd10",
   "metadata": {
    "deletable": false,
    "editable": false,
    "nbgrader": {
     "cell_type": "code",
     "checksum": "e7d6f05bf2569ce4b447f4343c15be47",
     "grade": true,
     "grade_id": "cell-o6an411594b2gfk8",
     "locked": true,
     "points": 20,
     "schema_version": 3,
     "solution": false,
     "task": false
    }
   },
   "outputs": [
    {
     "name": "stdout",
     "output_type": "stream",
     "text": [
      "+++ CORRECT!\n"
     ]
    }
   ],
   "source": [
    "sequence = 'ATAACGTGGATGCTA'\n",
    "\n",
    "student_answer = dna_reverse( sequence )\n",
    "correct_answer = 'ATCGTAGGTGCAATA'\n",
    "\n",
    "assert student_answer == correct_answer\n",
    "print( \"+++ CORRECT!\" )\n"
   ]
  },
  {
   "cell_type": "markdown",
   "id": "24a7c1af",
   "metadata": {
    "deletable": false,
    "editable": false,
    "nbgrader": {
     "cell_type": "markdown",
     "checksum": "206a30cb26e11b528b103b4f30edda15",
     "grade": false,
     "grade_id": "cell-53f5klpgs361e3jj",
     "locked": true,
     "schema_version": 3,
     "solution": false,
     "task": false
    }
   },
   "source": [
    "### <span id=\"Q1p3\" style=\"background-color: #515; color: white; padding: 5px; padding-left: 10px; padding-right: 10px; border-radius: 5px;\">TEST 2/2 (20 points)</span><a href=\"#QTOP\" style=\"background-color: #aaa; color: white; padding: 5px; padding-bottom: 5px; border-radius: 2px; text-align: center; border-radius: 3px; margin-left: 10px; text-decoration: none;\">⇡</a>"
   ]
  },
  {
   "cell_type": "code",
   "execution_count": 8,
   "id": "5098967d",
   "metadata": {
    "deletable": false,
    "editable": false,
    "nbgrader": {
     "cell_type": "code",
     "checksum": "8d8dbfddf628f255293870757047e0e9",
     "grade": true,
     "grade_id": "cell-0dce0df4be182d50",
     "locked": true,
     "points": 20,
     "schema_version": 3,
     "solution": false,
     "task": false
    }
   },
   "outputs": [
    {
     "name": "stdout",
     "output_type": "stream",
     "text": [
      "+++ CORRECT!\n"
     ]
    }
   ],
   "source": [
    "sequence = 'GTCATGCTAAGTCTGA'\n",
    "\n",
    "student_answer = dna_reverse( sequence )\n",
    "correct_answer = 'AGTCTGAATCGTACTG'\n",
    "\n",
    "assert student_answer == correct_answer\n",
    "print( \"+++ CORRECT!\" )\n",
    "\n"
   ]
  },
  {
   "cell_type": "markdown",
   "id": "0ac51a6f",
   "metadata": {
    "deletable": false,
    "editable": false,
    "nbgrader": {
     "cell_type": "markdown",
     "checksum": "3515271a49501039df238dbefa6d852b",
     "grade": false,
     "grade_id": "cell-l729l9yo6d0u1dqm",
     "locked": true,
     "schema_version": 3,
     "solution": false,
     "task": false
    }
   },
   "source": [
    "<div style=\"border-bottom: 2px solid #888; margin-bottom: 10px;\"></div>\n",
    "\n",
    "<span style=\"display: inline-block; width: 100%; background-color: #dd6a00; color: white; padding: 5px; padding-left: 10px; padding-right: 10px; border-radius: 5px; text-align: center; font-weight: bold;\">END OF HOMEWORK</span>"
   ]
  }
 ],
 "metadata": {
  "kernelspec": {
   "display_name": "Python 3",
   "language": "python",
   "name": "python3"
  },
  "language_info": {
   "codemirror_mode": {
    "name": "ipython",
    "version": 3
   },
   "file_extension": ".py",
   "mimetype": "text/x-python",
   "name": "python",
   "nbconvert_exporter": "python",
   "pygments_lexer": "ipython3",
   "version": "3.13.2"
  }
 },
 "nbformat": 4,
 "nbformat_minor": 5
}
